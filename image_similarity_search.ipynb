{
 "cells": [
  {
   "cell_type": "code",
   "execution_count": 1,
   "id": "d581dcab",
   "metadata": {},
   "outputs": [],
   "source": [
    "import os\n",
    "from PIL import Image\n",
    "import numpy as np\n",
    "import torch\n",
    "import torch.nn as nn\n",
    "import torchvision\n",
    "from torchvision import transforms"
   ]
  },
  {
   "cell_type": "code",
   "execution_count": 2,
   "id": "a57965fb",
   "metadata": {},
   "outputs": [],
   "source": [
    "images = os.listdir(\"./Pictures/Camera Roll\")"
   ]
  },
  {
   "cell_type": "code",
   "execution_count": 3,
   "id": "73640f88",
   "metadata": {},
   "outputs": [
    {
     "name": "stderr",
     "output_type": "stream",
     "text": [
      "C:\\Users\\Hp\\anaconda3\\lib\\site-packages\\torchvision\\models\\_utils.py:208: UserWarning: The parameter 'pretrained' is deprecated since 0.13 and may be removed in the future, please use 'weights' instead.\n",
      "  warnings.warn(\n",
      "C:\\Users\\Hp\\anaconda3\\lib\\site-packages\\torchvision\\models\\_utils.py:223: UserWarning: Arguments other than a weight enum or `None` for 'weights' are deprecated since 0.13 and may be removed in the future. The current behavior is equivalent to passing `weights=ResNet50_Weights.IMAGENET1K_V1`. You can also use `weights=ResNet50_Weights.DEFAULT` to get the most up-to-date weights.\n",
      "  warnings.warn(msg)\n"
     ]
    }
   ],
   "source": [
    "model = torchvision.models.resnet50(pretrained=True)"
   ]
  },
  {
   "cell_type": "code",
   "execution_count": 4,
   "id": "e20db2e1",
   "metadata": {},
   "outputs": [],
   "source": [
    "all_names = []\n",
    "all_vecs = []\n",
    "model.eval()\n",
    "root = \"./Pictures/Camera Roll\""
   ]
  },
  {
   "cell_type": "code",
   "execution_count": 5,
   "id": "6af69b66",
   "metadata": {},
   "outputs": [],
   "source": [
    "# This is the pytorch convention of data augmentation\n",
    "transform = transforms.Compose(\n",
    "    [\n",
    "    transforms.Resize((300, 300)),\n",
    "    transforms.RandomHorizontalFlip(),\n",
    "    transforms.RandomVerticalFlip(),\n",
    "    transforms.ToTensor(),\n",
    "    transforms.Normalize(\n",
    "        mean = [0.5, 0.5, 0.5],\n",
    "        std = [0.5, 0.5, 0.5]\n",
    "    ),\n",
    "]\n",
    ")"
   ]
  },
  {
   "cell_type": "code",
   "execution_count": 6,
   "id": "45930ab4",
   "metadata": {},
   "outputs": [],
   "source": [
    "activation = ()\n",
    "def get_activaton(name):\n",
    "    def hook(model, input, output):\n",
    "        activation[name] = output.detatch()\n",
    "    return hook"
   ]
  },
  {
   "cell_type": "code",
   "execution_count": 7,
   "id": "3c809333",
   "metadata": {},
   "outputs": [
    {
     "data": {
      "text/plain": [
       "<torch.utils.hooks.RemovableHandle at 0x24a52619720>"
      ]
     },
     "execution_count": 7,
     "metadata": {},
     "output_type": "execute_result"
    }
   ],
   "source": [
    "model.avgpool.register_forward_hook(get_activaton(\"avgpool\"))"
   ]
  },
  {
   "cell_type": "markdown",
   "id": "7a24706b",
   "metadata": {},
   "source": [
    "### CONVERT QUERY IMAGE TO VECTOR"
   ]
  },
  {
   "cell_type": "code",
   "execution_count": 8,
   "id": "2a412c4a",
   "metadata": {},
   "outputs": [],
   "source": [
    "with torch.no_grad():\n",
    "    for i, file in enumerate(images):\n",
    "        try:\n",
    "            img = Image.open(root + file)\n",
    "            img = transform(img)\n",
    "            out = model(img[None, ...])\n",
    "            vec = activation[\"avgpool\"].numpy().squeeze()[None, ...]\n",
    "            if all_vecs is None:\n",
    "                all_vecs = vec\n",
    "            else:\n",
    "                all_vecs = np.vstack([all_vecs, vec])\n",
    "            all_names.append(file)\n",
    "        except:\n",
    "            continue\n",
    "        if i % 100 == 0 and i != 0:\n",
    "            print(i, \"done\")"
   ]
  },
  {
   "cell_type": "code",
   "execution_count": 9,
   "id": "3d9f1252",
   "metadata": {},
   "outputs": [],
   "source": [
    "np.save(\"all_vecs.npy\", all_vecs)\n",
    "np.save(\"all_names.npy\", all_names)"
   ]
  },
  {
   "cell_type": "markdown",
   "id": "ec429a62",
   "metadata": {},
   "source": [
    "# FRONTEND USING STREAMLIT"
   ]
  },
  {
   "cell_type": "code",
   "execution_count": 10,
   "id": "a357903a",
   "metadata": {},
   "outputs": [],
   "source": [
    "import streamlit as st\n",
    "import time\n",
    "from scipy.spatial.distance import cdist"
   ]
  },
  {
   "cell_type": "code",
   "execution_count": 11,
   "id": "e17b1164",
   "metadata": {},
   "outputs": [
    {
     "name": "stderr",
     "output_type": "stream",
     "text": [
      "2024-06-05 14:02:20.175 WARNING streamlit.runtime.caching.cache_data_api: No runtime found, using MemoryCacheStorageManager\n"
     ]
    }
   ],
   "source": [
    "@st.cache_data\n",
    "def read_data():\n",
    "    all_vecs = np.load(\"all_vecs.npy\")\n",
    "    all_names = np.load(\"all_names.npy\")\n",
    "    return all_vecs, all_names"
   ]
  },
  {
   "cell_type": "code",
   "execution_count": 12,
   "id": "c7361bca",
   "metadata": {},
   "outputs": [
    {
     "name": "stderr",
     "output_type": "stream",
     "text": [
      "2024-06-05 14:02:22.264 \n",
      "  \u001b[33m\u001b[1mWarning:\u001b[0m to view this Streamlit app on a browser, run it with the following\n",
      "  command:\n",
      "\n",
      "    streamlit run C:\\Users\\Hp\\anaconda3\\lib\\site-packages\\ipykernel_launcher.py [ARGUMENTS]\n",
      "2024-06-05 14:02:22.267 No runtime found, using MemoryCacheStorageManager\n"
     ]
    }
   ],
   "source": [
    "vecs, names = read_data()"
   ]
  },
  {
   "cell_type": "code",
   "execution_count": 13,
   "id": "c2b5856e",
   "metadata": {},
   "outputs": [],
   "source": [
    "_, fcol2, _ = st.columns(3)"
   ]
  },
  {
   "cell_type": "code",
   "execution_count": 14,
   "id": "74b02111",
   "metadata": {},
   "outputs": [],
   "source": [
    "scol1, scol2 = st.columns(2)"
   ]
  },
  {
   "cell_type": "code",
   "execution_count": 15,
   "id": "24f7c4c4",
   "metadata": {},
   "outputs": [],
   "source": [
    "ch = scol1.button(\"Start/change\")"
   ]
  },
  {
   "cell_type": "code",
   "execution_count": 16,
   "id": "8f316994",
   "metadata": {},
   "outputs": [],
   "source": [
    "fs = scol2.button(\"find similar\")"
   ]
  },
  {
   "cell_type": "code",
   "execution_count": 17,
   "id": "cc3b2129",
   "metadata": {},
   "outputs": [],
   "source": [
    "if ch:\n",
    "    random_name = names[np.random.randint(len(names))]\n",
    "    fcol2.image(Image.open(\"./Pictures/Camera Roll/\" + random_name))\n",
    "    st.session_state[\"disp_img\"] = random_name\n",
    "    st.write(st.session_state[\"disp_img\"])\n",
    "if fs:\n",
    "    c1, c2, c3, c4, c5 = st.columns()\n",
    "    idx = int(np.argwhere(names == st.session_state[\"disp_img\"]))\n",
    "    target_vec = vecs[idx]\n",
    "    fcol2.image(Image.open(\"./Pictures/Camera Roll/\" + st.session_state[\"disp_img\"]))\n",
    "    top5 = cdist(target_vec[None, ...], vecs).squeeze().argsort()[1:6]\n",
    "    c1.image(Image.open(\"./Pictures/Camera Roll/\" + names[top5[0]]))\n",
    "    c2.image(Image.open(\"./Pictures/Camera Roll/\" + names[top5[1]]))\n",
    "    c3.image(Image.open(\"./Pictures/Camera Roll/\" + names[top5[2]]))\n",
    "    c4.image(Image.open(\"./Pictures/Camera Roll/\" + names[top5[3]]))\n",
    "    c5.image(Image.open(\"./Pictures/Camera Roll/\" + names[top5[4]]))                         "
   ]
  },
  {
   "cell_type": "code",
   "execution_count": null,
   "id": "14a62bf2",
   "metadata": {},
   "outputs": [],
   "source": []
  }
 ],
 "metadata": {
  "kernelspec": {
   "display_name": "Python 3 (ipykernel)",
   "language": "python",
   "name": "python3"
  },
  "language_info": {
   "codemirror_mode": {
    "name": "ipython",
    "version": 3
   },
   "file_extension": ".py",
   "mimetype": "text/x-python",
   "name": "python",
   "nbconvert_exporter": "python",
   "pygments_lexer": "ipython3",
   "version": "3.10.9"
  }
 },
 "nbformat": 4,
 "nbformat_minor": 5
}
